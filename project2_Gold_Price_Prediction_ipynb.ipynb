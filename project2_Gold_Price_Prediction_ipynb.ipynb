{
  "nbformat": 4,
  "nbformat_minor": 0,
  "metadata": {
    "colab": {
      "name": "project2: Gold Price Prediction ipynb",
      "provenance": [],
      "collapsed_sections": [],
      "include_colab_link": true
    },
    "kernelspec": {
      "name": "python3",
      "display_name": "Python 3"
    },
    "language_info": {
      "name": "python"
    }
  },
  "cells": [
    {
      "cell_type": "markdown",
      "metadata": {
        "id": "view-in-github",
        "colab_type": "text"
      },
      "source": [
        "<a href=\"https://colab.research.google.com/github/vinodhkumarbj/vinodhkumarbj/blob/main/project2_Gold_Price_Prediction_ipynb.ipynb\" target=\"_parent\"><img src=\"https://colab.research.google.com/assets/colab-badge.svg\" alt=\"Open In Colab\"/></a>"
      ]
    },
    {
      "cell_type": "markdown",
      "metadata": {
        "id": "G0IkcCK2NWtp"
      },
      "source": [
        "Importing the Libraries\n"
      ]
    },
    {
      "cell_type": "code",
      "metadata": {
        "id": "GWCygB0RNf84"
      },
      "source": [
        "import numpy as np\n",
        "import pandas as pd\n",
        "import matplotlib.pyplot as plt\n",
        "import seaborn as sns\n",
        "from sklearn.model_selection import train_test_split\n",
        "from sklearn.ensemble import RandomForestRegressor\n",
        "from sklearn import metrics"
      ],
      "execution_count": null,
      "outputs": []
    },
    {
      "cell_type": "markdown",
      "metadata": {
        "id": "mNwymsyEPKtO"
      },
      "source": [
        "Data Collection and Processing\n"
      ]
    },
    {
      "cell_type": "code",
      "metadata": {
        "id": "Nw8mIpMvPUrU"
      },
      "source": [
        " # loading the csv data to a Pandas DataFrame\n",
        "gold_data = pd.read_csv('/content/archive.zip')"
      ],
      "execution_count": null,
      "outputs": []
    },
    {
      "cell_type": "code",
      "metadata": {
        "colab": {
          "base_uri": "https://localhost:8080/",
          "height": 204
        },
        "id": "1oTPAptAQDJC",
        "outputId": "4aa3dd8f-8798-4942-b939-f2ee61b2a2c4"
      },
      "source": [
        " # print first 5 rows in the dataframe\n",
        "gold_data.head()"
      ],
      "execution_count": null,
      "outputs": [
        {
          "output_type": "execute_result",
          "data": {
            "text/html": [
              "<div>\n",
              "<style scoped>\n",
              "    .dataframe tbody tr th:only-of-type {\n",
              "        vertical-align: middle;\n",
              "    }\n",
              "\n",
              "    .dataframe tbody tr th {\n",
              "        vertical-align: top;\n",
              "    }\n",
              "\n",
              "    .dataframe thead th {\n",
              "        text-align: right;\n",
              "    }\n",
              "</style>\n",
              "<table border=\"1\" class=\"dataframe\">\n",
              "  <thead>\n",
              "    <tr style=\"text-align: right;\">\n",
              "      <th></th>\n",
              "      <th>Date</th>\n",
              "      <th>SPX</th>\n",
              "      <th>GLD</th>\n",
              "      <th>USO</th>\n",
              "      <th>SLV</th>\n",
              "      <th>EUR/USD</th>\n",
              "    </tr>\n",
              "  </thead>\n",
              "  <tbody>\n",
              "    <tr>\n",
              "      <th>0</th>\n",
              "      <td>1/2/2008</td>\n",
              "      <td>1447.160034</td>\n",
              "      <td>84.860001</td>\n",
              "      <td>78.470001</td>\n",
              "      <td>15.180</td>\n",
              "      <td>1.471692</td>\n",
              "    </tr>\n",
              "    <tr>\n",
              "      <th>1</th>\n",
              "      <td>1/3/2008</td>\n",
              "      <td>1447.160034</td>\n",
              "      <td>85.570000</td>\n",
              "      <td>78.370003</td>\n",
              "      <td>15.285</td>\n",
              "      <td>1.474491</td>\n",
              "    </tr>\n",
              "    <tr>\n",
              "      <th>2</th>\n",
              "      <td>1/4/2008</td>\n",
              "      <td>1411.630005</td>\n",
              "      <td>85.129997</td>\n",
              "      <td>77.309998</td>\n",
              "      <td>15.167</td>\n",
              "      <td>1.475492</td>\n",
              "    </tr>\n",
              "    <tr>\n",
              "      <th>3</th>\n",
              "      <td>1/7/2008</td>\n",
              "      <td>1416.180054</td>\n",
              "      <td>84.769997</td>\n",
              "      <td>75.500000</td>\n",
              "      <td>15.053</td>\n",
              "      <td>1.468299</td>\n",
              "    </tr>\n",
              "    <tr>\n",
              "      <th>4</th>\n",
              "      <td>1/8/2008</td>\n",
              "      <td>1390.189941</td>\n",
              "      <td>86.779999</td>\n",
              "      <td>76.059998</td>\n",
              "      <td>15.590</td>\n",
              "      <td>1.557099</td>\n",
              "    </tr>\n",
              "  </tbody>\n",
              "</table>\n",
              "</div>"
            ],
            "text/plain": [
              "       Date          SPX        GLD        USO     SLV   EUR/USD\n",
              "0  1/2/2008  1447.160034  84.860001  78.470001  15.180  1.471692\n",
              "1  1/3/2008  1447.160034  85.570000  78.370003  15.285  1.474491\n",
              "2  1/4/2008  1411.630005  85.129997  77.309998  15.167  1.475492\n",
              "3  1/7/2008  1416.180054  84.769997  75.500000  15.053  1.468299\n",
              "4  1/8/2008  1390.189941  86.779999  76.059998  15.590  1.557099"
            ]
          },
          "metadata": {},
          "execution_count": 8
        }
      ]
    },
    {
      "cell_type": "code",
      "metadata": {
        "colab": {
          "base_uri": "https://localhost:8080/",
          "height": 204
        },
        "id": "bgSl-cmMRyAE",
        "outputId": "0bcdbc86-a244-442d-bbf7-a9d2050fdbb6"
      },
      "source": [
        "# print last 5 rows of the dataframe\n",
        "gold_data.tail()"
      ],
      "execution_count": null,
      "outputs": [
        {
          "output_type": "execute_result",
          "data": {
            "text/html": [
              "<div>\n",
              "<style scoped>\n",
              "    .dataframe tbody tr th:only-of-type {\n",
              "        vertical-align: middle;\n",
              "    }\n",
              "\n",
              "    .dataframe tbody tr th {\n",
              "        vertical-align: top;\n",
              "    }\n",
              "\n",
              "    .dataframe thead th {\n",
              "        text-align: right;\n",
              "    }\n",
              "</style>\n",
              "<table border=\"1\" class=\"dataframe\">\n",
              "  <thead>\n",
              "    <tr style=\"text-align: right;\">\n",
              "      <th></th>\n",
              "      <th>Date</th>\n",
              "      <th>SPX</th>\n",
              "      <th>GLD</th>\n",
              "      <th>USO</th>\n",
              "      <th>SLV</th>\n",
              "      <th>EUR/USD</th>\n",
              "    </tr>\n",
              "  </thead>\n",
              "  <tbody>\n",
              "    <tr>\n",
              "      <th>2285</th>\n",
              "      <td>5/8/2018</td>\n",
              "      <td>2671.919922</td>\n",
              "      <td>124.589996</td>\n",
              "      <td>14.0600</td>\n",
              "      <td>15.5100</td>\n",
              "      <td>1.186789</td>\n",
              "    </tr>\n",
              "    <tr>\n",
              "      <th>2286</th>\n",
              "      <td>5/9/2018</td>\n",
              "      <td>2697.790039</td>\n",
              "      <td>124.330002</td>\n",
              "      <td>14.3700</td>\n",
              "      <td>15.5300</td>\n",
              "      <td>1.184722</td>\n",
              "    </tr>\n",
              "    <tr>\n",
              "      <th>2287</th>\n",
              "      <td>5/10/2018</td>\n",
              "      <td>2723.070068</td>\n",
              "      <td>125.180000</td>\n",
              "      <td>14.4100</td>\n",
              "      <td>15.7400</td>\n",
              "      <td>1.191753</td>\n",
              "    </tr>\n",
              "    <tr>\n",
              "      <th>2288</th>\n",
              "      <td>5/14/2018</td>\n",
              "      <td>2730.129883</td>\n",
              "      <td>124.489998</td>\n",
              "      <td>14.3800</td>\n",
              "      <td>15.5600</td>\n",
              "      <td>1.193118</td>\n",
              "    </tr>\n",
              "    <tr>\n",
              "      <th>2289</th>\n",
              "      <td>5/16/2018</td>\n",
              "      <td>2725.780029</td>\n",
              "      <td>122.543800</td>\n",
              "      <td>14.4058</td>\n",
              "      <td>15.4542</td>\n",
              "      <td>1.182033</td>\n",
              "    </tr>\n",
              "  </tbody>\n",
              "</table>\n",
              "</div>"
            ],
            "text/plain": [
              "           Date          SPX         GLD      USO      SLV   EUR/USD\n",
              "2285   5/8/2018  2671.919922  124.589996  14.0600  15.5100  1.186789\n",
              "2286   5/9/2018  2697.790039  124.330002  14.3700  15.5300  1.184722\n",
              "2287  5/10/2018  2723.070068  125.180000  14.4100  15.7400  1.191753\n",
              "2288  5/14/2018  2730.129883  124.489998  14.3800  15.5600  1.193118\n",
              "2289  5/16/2018  2725.780029  122.543800  14.4058  15.4542  1.182033"
            ]
          },
          "metadata": {},
          "execution_count": 9
        }
      ]
    },
    {
      "cell_type": "code",
      "metadata": {
        "colab": {
          "base_uri": "https://localhost:8080/"
        },
        "id": "3aLAHNW8SZa9",
        "outputId": "96d253b4-8417-4cb6-9deb-ef494684bac1"
      },
      "source": [
        " # number of rows and columns\n",
        "gold_data.shape"
      ],
      "execution_count": null,
      "outputs": [
        {
          "output_type": "execute_result",
          "data": {
            "text/plain": [
              "(2290, 6)"
            ]
          },
          "metadata": {},
          "execution_count": 10
        }
      ]
    },
    {
      "cell_type": "code",
      "metadata": {
        "colab": {
          "base_uri": "https://localhost:8080/"
        },
        "id": "ovGhfSnKSi_H",
        "outputId": "72521f8a-329e-4646-942d-3c74b37f81ee"
      },
      "source": [
        "# getting some basic informations about the data\n",
        "gold_data.info()"
      ],
      "execution_count": null,
      "outputs": [
        {
          "output_type": "stream",
          "name": "stdout",
          "text": [
            "<class 'pandas.core.frame.DataFrame'>\n",
            "RangeIndex: 2290 entries, 0 to 2289\n",
            "Data columns (total 6 columns):\n",
            " #   Column   Non-Null Count  Dtype  \n",
            "---  ------   --------------  -----  \n",
            " 0   Date     2290 non-null   object \n",
            " 1   SPX      2290 non-null   float64\n",
            " 2   GLD      2290 non-null   float64\n",
            " 3   USO      2290 non-null   float64\n",
            " 4   SLV      2290 non-null   float64\n",
            " 5   EUR/USD  2290 non-null   float64\n",
            "dtypes: float64(5), object(1)\n",
            "memory usage: 107.5+ KB\n"
          ]
        }
      ]
    },
    {
      "cell_type": "code",
      "metadata": {
        "colab": {
          "base_uri": "https://localhost:8080/"
        },
        "id": "VIlNE9aDSq7a",
        "outputId": "c44654c2-9467-425a-bbff-c7a756d519e5"
      },
      "source": [
        "# checking the number of missing values\n",
        "gold_data.isnull().sum()"
      ],
      "execution_count": null,
      "outputs": [
        {
          "output_type": "execute_result",
          "data": {
            "text/plain": [
              "Date       0\n",
              "SPX        0\n",
              "GLD        0\n",
              "USO        0\n",
              "SLV        0\n",
              "EUR/USD    0\n",
              "dtype: int64"
            ]
          },
          "metadata": {},
          "execution_count": 12
        }
      ]
    },
    {
      "cell_type": "code",
      "metadata": {
        "colab": {
          "base_uri": "https://localhost:8080/",
          "height": 297
        },
        "id": "ZyqEhiJRSxUj",
        "outputId": "4181c0e5-261f-42b3-92dd-3774255a3e5e"
      },
      "source": [
        "# getting the statistical measures of the data\n",
        "gold_data.describe()"
      ],
      "execution_count": null,
      "outputs": [
        {
          "output_type": "execute_result",
          "data": {
            "text/html": [
              "<div>\n",
              "<style scoped>\n",
              "    .dataframe tbody tr th:only-of-type {\n",
              "        vertical-align: middle;\n",
              "    }\n",
              "\n",
              "    .dataframe tbody tr th {\n",
              "        vertical-align: top;\n",
              "    }\n",
              "\n",
              "    .dataframe thead th {\n",
              "        text-align: right;\n",
              "    }\n",
              "</style>\n",
              "<table border=\"1\" class=\"dataframe\">\n",
              "  <thead>\n",
              "    <tr style=\"text-align: right;\">\n",
              "      <th></th>\n",
              "      <th>SPX</th>\n",
              "      <th>GLD</th>\n",
              "      <th>USO</th>\n",
              "      <th>SLV</th>\n",
              "      <th>EUR/USD</th>\n",
              "    </tr>\n",
              "  </thead>\n",
              "  <tbody>\n",
              "    <tr>\n",
              "      <th>count</th>\n",
              "      <td>2290.000000</td>\n",
              "      <td>2290.000000</td>\n",
              "      <td>2290.000000</td>\n",
              "      <td>2290.000000</td>\n",
              "      <td>2290.000000</td>\n",
              "    </tr>\n",
              "    <tr>\n",
              "      <th>mean</th>\n",
              "      <td>1654.315776</td>\n",
              "      <td>122.732875</td>\n",
              "      <td>31.842221</td>\n",
              "      <td>20.084997</td>\n",
              "      <td>1.283653</td>\n",
              "    </tr>\n",
              "    <tr>\n",
              "      <th>std</th>\n",
              "      <td>519.111540</td>\n",
              "      <td>23.283346</td>\n",
              "      <td>19.523517</td>\n",
              "      <td>7.092566</td>\n",
              "      <td>0.131547</td>\n",
              "    </tr>\n",
              "    <tr>\n",
              "      <th>min</th>\n",
              "      <td>676.530029</td>\n",
              "      <td>70.000000</td>\n",
              "      <td>7.960000</td>\n",
              "      <td>8.850000</td>\n",
              "      <td>1.039047</td>\n",
              "    </tr>\n",
              "    <tr>\n",
              "      <th>25%</th>\n",
              "      <td>1239.874969</td>\n",
              "      <td>109.725000</td>\n",
              "      <td>14.380000</td>\n",
              "      <td>15.570000</td>\n",
              "      <td>1.171313</td>\n",
              "    </tr>\n",
              "    <tr>\n",
              "      <th>50%</th>\n",
              "      <td>1551.434998</td>\n",
              "      <td>120.580002</td>\n",
              "      <td>33.869999</td>\n",
              "      <td>17.268500</td>\n",
              "      <td>1.303296</td>\n",
              "    </tr>\n",
              "    <tr>\n",
              "      <th>75%</th>\n",
              "      <td>2073.010070</td>\n",
              "      <td>132.840004</td>\n",
              "      <td>37.827501</td>\n",
              "      <td>22.882499</td>\n",
              "      <td>1.369971</td>\n",
              "    </tr>\n",
              "    <tr>\n",
              "      <th>max</th>\n",
              "      <td>2872.870117</td>\n",
              "      <td>184.589996</td>\n",
              "      <td>117.480003</td>\n",
              "      <td>47.259998</td>\n",
              "      <td>1.598798</td>\n",
              "    </tr>\n",
              "  </tbody>\n",
              "</table>\n",
              "</div>"
            ],
            "text/plain": [
              "               SPX          GLD          USO          SLV      EUR/USD\n",
              "count  2290.000000  2290.000000  2290.000000  2290.000000  2290.000000\n",
              "mean   1654.315776   122.732875    31.842221    20.084997     1.283653\n",
              "std     519.111540    23.283346    19.523517     7.092566     0.131547\n",
              "min     676.530029    70.000000     7.960000     8.850000     1.039047\n",
              "25%    1239.874969   109.725000    14.380000    15.570000     1.171313\n",
              "50%    1551.434998   120.580002    33.869999    17.268500     1.303296\n",
              "75%    2073.010070   132.840004    37.827501    22.882499     1.369971\n",
              "max    2872.870117   184.589996   117.480003    47.259998     1.598798"
            ]
          },
          "metadata": {},
          "execution_count": 13
        }
      ]
    },
    {
      "cell_type": "markdown",
      "metadata": {
        "id": "kTomiJYIS75L"
      },
      "source": [
        "Correlation:\n",
        "1.Positive correlation \n",
        "2.Negative correlation\n",
        "\n"
      ]
    },
    {
      "cell_type": "code",
      "metadata": {
        "id": "rNfbu6oPTYJv"
      },
      "source": [
        "correlation = gold_data.corr()"
      ],
      "execution_count": null,
      "outputs": []
    },
    {
      "cell_type": "code",
      "metadata": {
        "colab": {
          "base_uri": "https://localhost:8080/",
          "height": 487
        },
        "id": "zJ-SmLOFUQnh",
        "outputId": "e0d2c63c-3167-40d9-e697-97839231dfb2"
      },
      "source": [
        "# constructing a heatmap to understand the correlatiom\n",
        "plt.figure(figsize = (8,8))\n",
        "sns.heatmap(correlation, cbar=True, square=True, fmt='.1f',annot=True, annot_kws={'size':8}, cmap='Blues')"
      ],
      "execution_count": null,
      "outputs": [
        {
          "output_type": "execute_result",
          "data": {
            "text/plain": [
              "<matplotlib.axes._subplots.AxesSubplot at 0x7fab8a024d90>"
            ]
          },
          "metadata": {},
          "execution_count": 15
        },
        {
          "output_type": "display_data",
          "data": {
            "image/png": "[encoded data removed]",
            "text/plain": [
              "<Figure size 576x576 with 2 Axes>"
            ]
          },
          "metadata": {
            "needs_background": "light"
          }
        }
      ]
    },
    {
      "cell_type": "code",
      "metadata": {
        "colab": {
          "base_uri": "https://localhost:8080/"
        },
        "id": "6HGGCysWUV5X",
        "outputId": "2cd4baf5-1646-4293-dbce-dd68cda1d48e"
      },
      "source": [
        "# correlation values of GLD\n",
        "print(correlation['GLD'])"
      ],
      "execution_count": null,
      "outputs": [
        {
          "output_type": "stream",
          "name": "stdout",
          "text": [
            "SPX        0.049345\n",
            "GLD        1.000000\n",
            "USO       -0.186360\n",
            "SLV        0.866632\n",
            "EUR/USD   -0.024375\n",
            "Name: GLD, dtype: float64\n"
          ]
        }
      ]
    },
    {
      "cell_type": "code",
      "metadata": {
        "colab": {
          "base_uri": "https://localhost:8080/",
          "height": 354
        },
        "id": "qzOJaDHgUdLQ",
        "outputId": "815b2875-375b-447c-b1b6-3fd3077495a7"
      },
      "source": [
        "# checking the distribution of the GLD Price\n",
        "sns.distplot(gold_data['GLD'],color='green')"
      ],
      "execution_count": null,
      "outputs": [
        {
          "output_type": "stream",
          "name": "stderr",
          "text": [
            "/usr/local/lib/python3.7/dist-packages/seaborn/distributions.py:2619: FutureWarning: `distplot` is a deprecated function and will be removed in a future version. Please adapt your code to use either `displot` (a figure-level function with similar flexibility) or `histplot` (an axes-level function for histograms).\n",
            "  warnings.warn(msg, FutureWarning)\n"
          ]
        },
        {
          "output_type": "execute_result",
          "data": {
            "text/plain": [
              "<matplotlib.axes._subplots.AxesSubplot at 0x7fab81858650>"
            ]
          },
          "metadata": {},
          "execution_count": 17
        },
        {
          "output_type": "display_data",
          "data": {
            "image/png": "[encoded data removed]",
            "text/plain": [
              "<Figure size 432x288 with 1 Axes>"
            ]
          },
          "metadata": {
            "needs_background": "light"
          }
        }
      ]
    },
    {
      "cell_type": "markdown",
      "metadata": {
        "id": "kIo3AqjeUmJ6"
      },
      "source": [
        "Spliting the Features and Target\n"
      ]
    },
    {
      "cell_type": "code",
      "metadata": {
        "id": "Ma6u6ot4Uiis"
      },
      "source": [
        "X = gold_data.drop(['Date','GLD'],axis=1)\n",
        "Y = gold_data['GLD']"
      ],
      "execution_count": null,
      "outputs": []
    },
    {
      "cell_type": "code",
      "metadata": {
        "colab": {
          "base_uri": "https://localhost:8080/"
        },
        "id": "5hSC8gDPU1j4",
        "outputId": "011f1507-4d22-46d0-aa59-3f29578a7b3c"
      },
      "source": [
        "print(X)"
      ],
      "execution_count": null,
      "outputs": [
        {
          "output_type": "stream",
          "name": "stdout",
          "text": [
            "              SPX        USO      SLV   EUR/USD\n",
            "0     1447.160034  78.470001  15.1800  1.471692\n",
            "1     1447.160034  78.370003  15.2850  1.474491\n",
            "2     1411.630005  77.309998  15.1670  1.475492\n",
            "3     1416.180054  75.500000  15.0530  1.468299\n",
            "4     1390.189941  76.059998  15.5900  1.557099\n",
            "...           ...        ...      ...       ...\n",
            "2285  2671.919922  14.060000  15.5100  1.186789\n",
            "2286  2697.790039  14.370000  15.5300  1.184722\n",
            "2287  2723.070068  14.410000  15.7400  1.191753\n",
            "2288  2730.129883  14.380000  15.5600  1.193118\n",
            "2289  2725.780029  14.405800  15.4542  1.182033\n",
            "\n",
            "[2290 rows x 4 columns]\n"
          ]
        }
      ]
    },
    {
      "cell_type": "code",
      "metadata": {
        "colab": {
          "base_uri": "https://localhost:8080/"
        },
        "id": "6tqsFAwBU8Ij",
        "outputId": "d88afc36-8385-43bc-fcb2-a5fab4d5579b"
      },
      "source": [
        "print(Y)"
      ],
      "execution_count": null,
      "outputs": [
        {
          "output_type": "stream",
          "name": "stdout",
          "text": [
            "0        84.860001\n",
            "1        85.570000\n",
            "2        85.129997\n",
            "3        84.769997\n",
            "4        86.779999\n",
            "           ...    \n",
            "2285    124.589996\n",
            "2286    124.330002\n",
            "2287    125.180000\n",
            "2288    124.489998\n",
            "2289    122.543800\n",
            "Name: GLD, Length: 2290, dtype: float64\n"
          ]
        }
      ]
    },
    {
      "cell_type": "markdown",
      "metadata": {
        "id": "Rk9jWDlTVFVJ"
      },
      "source": [
        "Splitting into Traning Data and Test Data"
      ]
    },
    {
      "cell_type": "code",
      "metadata": {
        "id": "9_SDHdr5VBRg"
      },
      "source": [
        "X_train, X_test, Y_train, Y_test = train_test_split(X, Y, test_size = 0.2, random_state=2)"
      ],
      "execution_count": null,
      "outputs": []
    },
    {
      "cell_type": "markdown",
      "metadata": {
        "id": "RGmihv0BVx4x"
      },
      "source": [
        "Model Training: Random Forest Regressor\n",
        "\n"
      ]
    },
    {
      "cell_type": "code",
      "metadata": {
        "id": "ibeY8RVXV6Ue"
      },
      "source": [
        "regressor = RandomForestRegressor(n_estimators=100)"
      ],
      "execution_count": null,
      "outputs": []
    },
    {
      "cell_type": "code",
      "metadata": {
        "colab": {
          "base_uri": "https://localhost:8080/"
        },
        "id": "Dtn6I3GQV_gt",
        "outputId": "edbd3987-4e02-497c-b8d6-3ddc1ac72d85"
      },
      "source": [
        "# training the model\n",
        "regressor.fit(X_train,Y_train)"
      ],
      "execution_count": null,
      "outputs": [
        {
          "output_type": "execute_result",
          "data": {
            "text/plain": [
              "RandomForestRegressor(bootstrap=True, ccp_alpha=0.0, criterion='mse',\n",
              "                      max_depth=None, max_features='auto', max_leaf_nodes=None,\n",
              "                      max_samples=None, min_impurity_decrease=0.0,\n",
              "                      min_impurity_split=None, min_samples_leaf=1,\n",
              "                      min_samples_split=2, min_weight_fraction_leaf=0.0,\n",
              "                      n_estimators=100, n_jobs=None, oob_score=False,\n",
              "                      random_state=None, verbose=0, warm_start=False)"
            ]
          },
          "metadata": {},
          "execution_count": 23
        }
      ]
    },
    {
      "cell_type": "markdown",
      "metadata": {
        "id": "6HRorQPiWJlT"
      },
      "source": [
        "Model Evaluation"
      ]
    },
    {
      "cell_type": "code",
      "metadata": {
        "id": "960iUzbMWME4"
      },
      "source": [
        "# prediction on Test Data\n",
        "test_data_prediction = regressor.predict(X_test)"
      ],
      "execution_count": null,
      "outputs": []
    },
    {
      "cell_type": "code",
      "metadata": {
        "colab": {
          "base_uri": "https://localhost:8080/"
        },
        "id": "xo_EH_pDWPur",
        "outputId": "b7d8e397-0e2a-4af6-b522-807a7677dac0"
      },
      "source": [
        "print(test_data_prediction)"
      ],
      "execution_count": null,
      "outputs": [
        {
          "output_type": "stream",
          "name": "stdout",
          "text": [
            "[168.30789905  81.94449983 116.17930025 127.72590088 120.84850135\n",
            " 154.83559706 150.43099907 125.98360011 117.4594988  126.02540035\n",
            " 116.45480104 172.31270081 141.48569919 167.81469877 115.21599966\n",
            " 117.69270042 139.14790239 170.21440057 159.26810282 157.18609867\n",
            " 155.08140038 125.16540011 175.76139918 157.12200378 125.18430049\n",
            "  93.95030002  77.21040017 120.53320001 119.15999944 167.54539946\n",
            "  88.40000037 125.35599994  91.25960106 117.64410006 121.17919896\n",
            " 136.39550081 115.61190119 115.00940059 147.6097995  107.26160097\n",
            " 103.60820224  87.28879775 126.56620049 118.11230021 153.33159885\n",
            " 119.66400008 108.41359995 107.92149829  93.25870064 127.17359753\n",
            "  74.95440064 113.67019923 121.23390017 111.25549886 118.89279893\n",
            " 121.02529958 158.61300012 168.74140078 146.9369969   85.85179869\n",
            "  94.49160055  86.92249904  90.55170036 118.89750094 126.30170088\n",
            " 127.50640041 169.78219948 122.2697996  117.55109893  98.50660053\n",
            " 168.39840138 143.01259821 132.04560225 121.20520234 121.01329935\n",
            " 119.87010041 114.44670182 117.9170005  107.02040094 127.85810102\n",
            " 113.92369975 106.64210009 116.92390101 119.71239878  89.1956005\n",
            "  88.30069886 146.63650268 127.27800041 113.21700042 109.71309862\n",
            " 108.17079898  77.20499904 169.31570187 114.06459913 121.51999924\n",
            " 128.04170122 155.04119781  91.54349885 136.14860098 158.81260307\n",
            " 125.7510002  125.23420036 130.22250157 114.74600107 119.90860032\n",
            "  92.25779996 110.1757985  168.20219874 157.25779878 114.19089949\n",
            " 106.92360129  78.99109996 113.13690053 125.74010074 107.1709996\n",
            " 119.03160088 156.11270283 159.43219935 120.1633998  134.50450311\n",
            " 101.60549978 117.48719823 119.12630011 112.98500082 102.81589906\n",
            " 160.03299812  99.3850004  146.83819878 125.67300108 170.2573996\n",
            " 125.53089855 127.46189706 127.54870159 113.66609965 112.56700071\n",
            " 123.67479893 102.13089899  89.14989983 124.77669943 101.84329922\n",
            " 107.17379897 113.70790044 117.4865002   98.9841993  121.7398004\n",
            " 164.02109944  87.55849864 106.81179967 117.12710081 127.68650116\n",
            " 124.18400081  80.77019894 120.22530044 157.62059804  87.89269949\n",
            " 110.12149956 119.09039917 172.24059888 103.0070992  105.87400046\n",
            " 122.51300043 158.16939761  87.53749851  93.22670031 112.89950038\n",
            " 176.91710015 114.56629956 119.22200035  94.84530094 125.61250057\n",
            " 166.03000059 114.77250051 116.61760151  88.29989871 148.89710064\n",
            " 120.43209933  89.45920019 111.75999981 116.87680069 118.65410114\n",
            "  87.95739933  94.49650039 116.86060002 118.63110196 120.28059973\n",
            " 126.49319859 121.94719976 150.63389983 165.17800018 118.70109967\n",
            " 120.29890139 150.24100012 118.53179871 172.77209894 105.43029938\n",
            " 104.97580123 149.64770077 113.69350055 124.82090145 147.62599964\n",
            " 119.6477012  115.41590042 112.25719991 113.4531023  141.04600085\n",
            " 117.97879768 102.93440019 115.90970141 102.99000151  98.92730044\n",
            " 117.14490096  90.60910012  91.48000049 153.44329899 102.72040015\n",
            " 154.50000101 114.35960178 138.19480137  90.1351985  115.53239986\n",
            " 114.55609954 122.8439001  121.75040043 165.20960061  92.8283997\n",
            " 135.5047017  121.32229934 120.6234011  104.65090031 142.36970251\n",
            " 121.5006992  116.57410047 113.35130084 127.08169701 122.52259933\n",
            " 125.74089954 121.24210047  86.87359884 132.36760222 144.37880202\n",
            "  92.65169972 158.90349957 158.17130208 126.169099   165.09239946\n",
            " 108.86889972 110.01320082 103.6600984   94.35060046 127.67640285\n",
            " 107.14130098 162.48109966 121.61610052 131.8289005  130.3509014\n",
            " 160.82269908  90.03599886 175.27190238 127.69479944 126.53789875\n",
            "  86.55159894 124.41519902 150.39999734  89.57800056 106.87479968\n",
            " 109.1146001   84.17089912 136.29630012 154.96840179 137.43480317\n",
            "  73.9186004  152.04730058 126.20479971 126.68659999 127.51519917\n",
            " 108.67149937 156.54510034 114.51780132 116.84050123 125.22709937\n",
            " 154.09970117 121.65149983 156.36029907  92.97220062 125.43980164\n",
            " 125.7902003   87.73040027  92.2124989  126.12779934 128.38860369\n",
            " 113.2282004  117.48919748 120.83370033 126.90719747 119.65460103\n",
            " 136.58140058  94.00039966 119.65110055 113.20870122  94.32069978\n",
            " 109.16939915  87.14119904 109.07299893  89.58729984  92.34530045\n",
            " 131.76840393 162.3526003   89.10860047 119.69260097 133.02950211\n",
            " 123.89760064 128.5035021  101.96499841  89.0458987  132.16490103\n",
            " 120.29160027 108.61709982 168.23490099 115.28260049  86.56829919\n",
            " 118.85610045  91.22419956 161.4616007  116.46470044 121.94350026\n",
            " 160.35519834 120.02259935 112.72139962 108.50339872 126.76289955\n",
            "  76.10190022 102.96259969 127.80900305 121.69229934  92.59360002\n",
            " 132.24000036 118.0212012  116.18309978 154.81220258 158.86310121\n",
            " 110.17519957 152.30889761 119.33020094 160.50940112 118.31700027\n",
            " 158.01079933 115.19969932 116.79620031 149.41609896 114.49670076\n",
            " 125.75559884 165.429899   117.92790024 124.93729914 153.19870388\n",
            " 153.52800226 132.08180085 114.67850051 121.16380189 124.78750064\n",
            "  89.73070083 123.33989994 155.14360169 111.78220068 106.7557996\n",
            " 161.81690147 118.32239966 165.59309934 133.76950072 114.75429944\n",
            " 152.94589889 168.83080063 115.17300006 114.1007012  158.71369861\n",
            "  85.29959886 127.03300139 127.97140049 128.81670002 124.12110075\n",
            " 123.86920057  90.72640078 153.40670118  96.98619993 137.38580033\n",
            "  89.11429917 106.62060012 115.13590047 112.71220074 124.26489914\n",
            "  91.39759897 125.25820114 162.29559903 119.75969913 165.17360062\n",
            " 126.54959849 112.19660026 127.56249925  94.92879888  91.02269983\n",
            " 103.65959918 120.8527      82.89429929 126.35649989 160.2139048\n",
            " 117.36340084 118.1129001  119.43049996 122.57309952 120.1112013\n",
            " 121.45850012 118.28130066 106.94999997 148.30839973 126.04899826\n",
            " 115.73000076  74.08980011 127.82490106 154.78700093 122.31309975\n",
            " 125.61000045  88.72400018 103.47939868 124.8570006  120.26310017\n",
            "  73.27600085 151.31099986 121.17290052 104.65230003  86.34009761\n",
            " 115.20899919 172.2374985  119.78930039 159.43339785 113.15169998\n",
            " 121.23660025 118.4512011   95.9485998  118.51960021 126.04480038\n",
            " 118.5787993   95.92170085 153.42190208 122.27450021 147.63820033\n",
            " 159.34310279 113.93970044 122.5542993  150.8870984  127.33220002\n",
            " 165.81180073 135.32490005 120.15050008 167.14789913 108.25479957\n",
            " 121.76309814 137.98480103 106.93999906]\n"
          ]
        }
      ]
    },
    {
      "cell_type": "code",
      "metadata": {
        "colab": {
          "base_uri": "https://localhost:8080/"
        },
        "id": "I7kvCtAwWTQV",
        "outputId": "baa9cda4-638d-4769-d1db-b79ab18b64a7"
      },
      "source": [
        "# R squared error\n",
        "error_score = metrics.r2_score(Y_test, test_data_prediction)\n",
        "print(\"R squared error : \", error_score)"
      ],
      "execution_count": null,
      "outputs": [
        {
          "output_type": "stream",
          "name": "stdout",
          "text": [
            "R squared error :  0.9890732492582733\n"
          ]
        }
      ]
    },
    {
      "cell_type": "markdown",
      "metadata": {
        "id": "yJDWVijuX_8o"
      },
      "source": [
        "Compare the Actual Values and Predicted Values in a Plot\n"
      ]
    },
    {
      "cell_type": "code",
      "metadata": {
        "id": "QFBw6GBBX37P"
      },
      "source": [
        "Y_test = list(Y_test)"
      ],
      "execution_count": null,
      "outputs": []
    },
    {
      "cell_type": "code",
      "metadata": {
        "colab": {
          "base_uri": "https://localhost:8080/",
          "height": 295
        },
        "id": "8ood93JpYHHb",
        "outputId": "9b369dad-104c-41e9-eb58-69f28591490f"
      },
      "source": [
        "plt.plot(Y_test, color='blue', label = 'Actual Value')\n",
        "plt.plot(test_data_prediction, color='green', label='Predicted Value')\n",
        "plt.title('Actual Price vs Predicted Price')\n",
        "plt.xlabel('Number of values')\n",
        "plt.ylabel('GLD Price')\n",
        "plt.legend()\n",
        "plt.show()"
      ],
      "execution_count": null,
      "outputs": [
        {
          "output_type": "display_data",
          "data": {
            "image/png": "[encoded data removed]",
            "text/plain": [
              "<Figure size 432x288 with 1 Axes>"
            ]
          },
          "metadata": {
            "needs_background": "light"
          }
        }
      ]
    },
    {
      "cell_type": "code",
      "metadata": {
        "id": "gU8GXYOMYL3I"
      },
      "source": [
        ""
      ],
      "execution_count": null,
      "outputs": []
    }
  ]
}